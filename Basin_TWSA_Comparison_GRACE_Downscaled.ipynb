{
 "cells": [
  {
   "cell_type": "markdown",
   "id": "6fb25337",
   "metadata": {},
   "source": [
    "# GRACE TWSA (0.25°) and Downscaled (0.05°) Basin-Wise Analysis\n",
    "This notebook loads GRACE 0.25° and downscaled 0.05° datasets, overlays them on 12 hydrological basins, computes average time series, and visualizes them. It also exports basin-wise time series to Excel files."
   ]
  },
  {
   "cell_type": "code",
   "execution_count": 1,
   "id": "1f870e3f",
   "metadata": {},
   "outputs": [],
   "source": [
    "import h5py\n",
    "import xarray as xr\n",
    "import geopandas as gpd\n",
    "import numpy as np\n",
    "import pandas as pd\n",
    "import matplotlib.pyplot as plt\n",
    "from shapely.geometry import Point\n",
    "from shapely.validation import make_valid\n",
    "from matplotlib.ticker import MaxNLocator\n",
    "import matplotlib.dates as mdates\n",
    "import os\n",
    "\n",
    "# Ensure output directory exists\n",
    "os.makedirs(\"basin_series_output\", exist_ok=True)"
   ]
  },
  {
   "cell_type": "code",
   "execution_count": 3,
   "id": "5cb947f6",
   "metadata": {},
   "outputs": [],
   "source": [
    "# Load GRACE 0.25° data (h5)\n",
    "with h5py.File('grace025.h5', 'r') as f:\n",
    "    grace025 = f['data'][:]  # (time, lon, lat)\n",
    "grace025 = np.swapaxes(grace025, 1, 2)  # -> (time, lat, lon)\n",
    "\n",
    "# Load downscaled 0.05° data (netCDF)\n",
    "ds_down = xr.open_dataset('downscaled_grace_tws_data_with_uncertainty_gan_danet.nc')\n",
    "downscaled005 = ds_down['data'].values  # (time, lat, lon)\n",
    "lat005 = ds_down['lat'].values\n",
    "lon005 = ds_down['lon'].values\n",
    "\n",
    "# GRACE 0.25° grid setup\n",
    "lat_start, lon_start = 24.125, 65.125\n",
    "resolution = 0.25\n",
    "lat_count, lon_count = grace025.shape[1:]\n",
    "lat025 = np.round(lat_start + np.arange(lat_count) * resolution, 5)\n",
    "lon025 = np.round(lon_start + np.arange(lon_count) * resolution, 5)\n",
    "\n",
    "# Create mesh for spatial referencing\n",
    "lon_grid025, lat_grid025 = np.meshgrid(lon025, lat025)\n",
    "lon_grid005, lat_grid005 = np.meshgrid(lon005, lat005)"
   ]
  },
  {
   "cell_type": "code",
   "execution_count": 4,
   "id": "274a4552",
   "metadata": {},
   "outputs": [],
   "source": [
    "# Load shapefile of TP basins\n",
    "gdf_polygons = gpd.read_file('Union/TP_basins.shp')\n",
    "if gdf_polygons.crs != 'EPSG:4326':\n",
    "    gdf_polygons = gdf_polygons.to_crs('EPSG:4326')\n",
    "gdf_polygons = gdf_polygons[['BasinName', 'geometry']]\n",
    "gdf_polygons = gdf_polygons.dropna(subset=['geometry'])"
   ]
  },
  {
   "cell_type": "code",
   "execution_count": 5,
   "id": "2f02ec23",
   "metadata": {},
   "outputs": [
    {
     "name": "stderr",
     "output_type": "stream",
     "text": [
      "/tmp/ipykernel_10881/3815873658.py:3: FutureWarning: 'M' is deprecated and will be removed in a future version, please use 'ME' instead.\n",
      "  dates = pd.date_range(start='2002-08', periods=grace025.shape[0], freq='M')\n",
      "100%|██████████| 12/12 [09:24<00:00, 47.03s/it]\n"
     ]
    }
   ],
   "source": [
    "# Loop over each basin and extract time series\n",
    "import datetime\n",
    "dates = pd.date_range(start='2002-08', periods=grace025.shape[0], freq='M')\n",
    "from tqdm import tqdm\n",
    "\n",
    "for idx, basin in tqdm(gdf_polygons.iterrows(), total=len(gdf_polygons)):\n",
    "    name = basin['BasinName']\n",
    "    polygon = make_valid(basin['geometry'])\n",
    "\n",
    "    # 0.25° grid points in basin\n",
    "    points025 = [Point(x, y) for x, y in zip(lon_grid025.ravel(), lat_grid025.ravel())]\n",
    "    mask025 = np.array([polygon.contains(pt) for pt in points025]).reshape(lat_grid025.shape)\n",
    "\n",
    "    # 0.05° grid points in basin\n",
    "    points005 = [Point(x, y) for x, y in zip(lon_grid005.ravel(), lat_grid005.ravel())]\n",
    "    mask005 = np.array([polygon.contains(pt) for pt in points005]).reshape(lat_grid005.shape)\n",
    "\n",
    "    # Extract mean time series\n",
    "    series_grace = np.nanmean(grace025[:, mask025], axis=1)\n",
    "    series_down = np.nanmean(downscaled005[:, mask005], axis=1)\n",
    "\n",
    "    # Plot\n",
    "    fig, ax = plt.subplots(figsize=(10, 5))\n",
    "    ax.plot(dates, series_grace, label='GRACE 0.25°', color='blue')\n",
    "    ax.plot(dates, series_down, label='Downscaled 0.05°', color='red')\n",
    "    ax.set_title(f\"Basin: {name}\")\n",
    "    ax.set_xlabel(\"Date\")\n",
    "    ax.set_ylabel(\"TWSA (cm)\")\n",
    "    ax.legend()\n",
    "    ax.xaxis.set_major_locator(mdates.YearLocator(3))\n",
    "    ax.xaxis.set_major_formatter(mdates.DateFormatter('%Y'))\n",
    "    plt.xticks(rotation=45)\n",
    "    plt.tight_layout()\n",
    "    plt.savefig(f\"basin_series_output/{name.replace(' ', '_')}_timeseries.png\", dpi=300)\n",
    "    plt.close()\n",
    "\n",
    "    # Save to Excel\n",
    "    df_out = pd.DataFrame({\n",
    "        'Date': dates,\n",
    "        'GRACE_025': series_grace,\n",
    "        'Downscaled_005': series_down\n",
    "    })\n",
    "    df_out.to_excel(f\"basin_series_output/{name.replace(' ', '_')}_timeseries.xlsx\", index=False)"
   ]
  }
 ],
 "metadata": {
  "kernelspec": {
   "display_name": "xy",
   "language": "python",
   "name": "python3"
  },
  "language_info": {
   "codemirror_mode": {
    "name": "ipython",
    "version": 3
   },
   "file_extension": ".py",
   "mimetype": "text/x-python",
   "name": "python",
   "nbconvert_exporter": "python",
   "pygments_lexer": "ipython3",
   "version": "3.12.2"
  }
 },
 "nbformat": 4,
 "nbformat_minor": 5
}
